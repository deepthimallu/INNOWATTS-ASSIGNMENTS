{
 "cells": [
  {
   "cell_type": "code",
   "execution_count": 1,
   "metadata": {},
   "outputs": [],
   "source": [
    "#importing libraries\n",
    "import pandas as pd\n",
    "import numpy as np\n",
    "import matplotlib.pyplot as plt\n",
    "%matplotlib inline\n",
    "import seaborn as sns\n",
    "import warnings\n",
    "warnings.filterwarnings('ignore')\n",
    "pd.set_option('max_columns',None)"
   ]
  },
  {
   "cell_type": "code",
   "execution_count": 2,
   "metadata": {},
   "outputs": [
    {
     "data": {
      "text/html": [
       "<div>\n",
       "<style scoped>\n",
       "    .dataframe tbody tr th:only-of-type {\n",
       "        vertical-align: middle;\n",
       "    }\n",
       "\n",
       "    .dataframe tbody tr th {\n",
       "        vertical-align: top;\n",
       "    }\n",
       "\n",
       "    .dataframe thead th {\n",
       "        text-align: right;\n",
       "    }\n",
       "</style>\n",
       "<table border=\"1\" class=\"dataframe\">\n",
       "  <thead>\n",
       "    <tr style=\"text-align: right;\">\n",
       "      <th></th>\n",
       "      <th>ESIID</th>\n",
       "      <th>Entity</th>\n",
       "      <th>EDC</th>\n",
       "      <th>State</th>\n",
       "      <th>Load Profile</th>\n",
       "      <th>Voltage</th>\n",
       "      <th>Contract Start Date</th>\n",
       "      <th>Contract End Date</th>\n",
       "    </tr>\n",
       "  </thead>\n",
       "  <tbody>\n",
       "    <tr>\n",
       "      <th>0</th>\n",
       "      <td>3019138</td>\n",
       "      <td>IW</td>\n",
       "      <td>IW</td>\n",
       "      <td>IND</td>\n",
       "      <td>IWRESDLL-CIPS</td>\n",
       "      <td>PRIMARY</td>\n",
       "      <td>10/29/2018</td>\n",
       "      <td>10/29/2021</td>\n",
       "    </tr>\n",
       "    <tr>\n",
       "      <th>1</th>\n",
       "      <td>6015821</td>\n",
       "      <td>IW</td>\n",
       "      <td>IW</td>\n",
       "      <td>IND</td>\n",
       "      <td>IWRESDLH-CIPS</td>\n",
       "      <td>PRIMARY</td>\n",
       "      <td>05/10/2018</td>\n",
       "      <td>05/10/2021</td>\n",
       "    </tr>\n",
       "    <tr>\n",
       "      <th>2</th>\n",
       "      <td>9514135</td>\n",
       "      <td>IW</td>\n",
       "      <td>IW</td>\n",
       "      <td>IND</td>\n",
       "      <td>IWRESDHL-CIPSME</td>\n",
       "      <td>PRIMARY</td>\n",
       "      <td>02/10/2019</td>\n",
       "      <td>02/10/2022</td>\n",
       "    </tr>\n",
       "    <tr>\n",
       "      <th>3</th>\n",
       "      <td>13078046</td>\n",
       "      <td>IW</td>\n",
       "      <td>IW</td>\n",
       "      <td>IND</td>\n",
       "      <td>IWRESDHL-CIPS</td>\n",
       "      <td>PRIMARY</td>\n",
       "      <td>10/09/2018</td>\n",
       "      <td>10/09/2021</td>\n",
       "    </tr>\n",
       "    <tr>\n",
       "      <th>4</th>\n",
       "      <td>13134011</td>\n",
       "      <td>IW</td>\n",
       "      <td>IW</td>\n",
       "      <td>IND</td>\n",
       "      <td>IWRESDHH-CIPS</td>\n",
       "      <td>PRIMARY</td>\n",
       "      <td>10/04/2017</td>\n",
       "      <td>10/04/2020</td>\n",
       "    </tr>\n",
       "  </tbody>\n",
       "</table>\n",
       "</div>"
      ],
      "text/plain": [
       "      ESIID Entity EDC State     Load Profile  Voltage Contract Start Date  \\\n",
       "0   3019138     IW  IW   IND    IWRESDLL-CIPS  PRIMARY          10/29/2018   \n",
       "1   6015821     IW  IW   IND    IWRESDLH-CIPS  PRIMARY          05/10/2018   \n",
       "2   9514135     IW  IW   IND  IWRESDHL-CIPSME  PRIMARY          02/10/2019   \n",
       "3  13078046     IW  IW   IND    IWRESDHL-CIPS  PRIMARY          10/09/2018   \n",
       "4  13134011     IW  IW   IND    IWRESDHH-CIPS  PRIMARY          10/04/2017   \n",
       "\n",
       "  Contract End Date  \n",
       "0        10/29/2021  \n",
       "1        05/10/2021  \n",
       "2        02/10/2022  \n",
       "3        10/09/2021  \n",
       "4        10/04/2020  "
      ]
     },
     "execution_count": 2,
     "metadata": {},
     "output_type": "execute_result"
    }
   ],
   "source": [
    "#importing csv file\n",
    "data=pd.read_csv(r'C:\\Users\\satvi\\OneDrive\\Desktop\\INNOWatts-Assignment3.csv')\n",
    "data.head()"
   ]
  },
  {
   "cell_type": "code",
   "execution_count": 3,
   "metadata": {},
   "outputs": [
    {
     "data": {
      "text/plain": [
       "(5083, 8)"
      ]
     },
     "execution_count": 3,
     "metadata": {},
     "output_type": "execute_result"
    }
   ],
   "source": [
    "#checking for the shape of the data\n",
    "data.shape"
   ]
  },
  {
   "cell_type": "code",
   "execution_count": 4,
   "metadata": {},
   "outputs": [
    {
     "data": {
      "text/plain": [
       "ESIID                    0\n",
       "Entity                   0\n",
       "EDC                      0\n",
       "State                    0\n",
       "Load Profile           245\n",
       "Voltage                  0\n",
       "Contract Start Date      0\n",
       "Contract End Date       14\n",
       "dtype: int64"
      ]
     },
     "execution_count": 4,
     "metadata": {},
     "output_type": "execute_result"
    }
   ],
   "source": [
    "#finding the null values\n",
    "data.isnull().sum()"
   ]
  },
  {
   "cell_type": "code",
   "execution_count": 5,
   "metadata": {},
   "outputs": [
    {
     "data": {
      "text/plain": [
       "[74, 87, 189, 455, 756, 757, 758, 821, 825, 1548, 1586, 3667, 4286, 5076]"
      ]
     },
     "execution_count": 5,
     "metadata": {},
     "output_type": "execute_result"
    }
   ],
   "source": [
    "#Checking the indexes where the null values present in the contract end date column and adding to a list\n",
    "data[data['Contract End Date'].isnull()].index.to_list()"
   ]
  },
  {
   "cell_type": "code",
   "execution_count": 6,
   "metadata": {},
   "outputs": [
    {
     "data": {
      "text/plain": [
       "'06/27/2026'"
      ]
     },
     "execution_count": 6,
     "metadata": {},
     "output_type": "execute_result"
    }
   ],
   "source": [
    "#Adding 5 years to the existing date \n",
    "date='06/27/2021'\n",
    "new_date=pd.to_datetime(date)+pd.DateOffset(years=5)\n",
    "new_date=new_date.strftime('%m/%d/%Y')\n",
    "new_date"
   ]
  },
  {
   "cell_type": "code",
   "execution_count": 7,
   "metadata": {},
   "outputs": [],
   "source": [
    "#Replacing the null values with new date\n",
    "data['Contract End Date'].replace(np.NaN,new_date,inplace=True)"
   ]
  },
  {
   "cell_type": "code",
   "execution_count": 8,
   "metadata": {},
   "outputs": [
    {
     "data": {
      "text/plain": [
       "0"
      ]
     },
     "execution_count": 8,
     "metadata": {},
     "output_type": "execute_result"
    }
   ],
   "source": [
    "#checking for the nan values after replacing with new date\n",
    "data['Contract End Date'].isnull().sum()"
   ]
  },
  {
   "cell_type": "code",
   "execution_count": 9,
   "metadata": {},
   "outputs": [],
   "source": [
    "#Creating a new dataframe with only ESIID and Contract end date\n",
    "data= pd.DataFrame(data, columns=['ESIID', 'Contract End Date'])"
   ]
  },
  {
   "cell_type": "code",
   "execution_count": 10,
   "metadata": {},
   "outputs": [
    {
     "data": {
      "text/html": [
       "<div>\n",
       "<style scoped>\n",
       "    .dataframe tbody tr th:only-of-type {\n",
       "        vertical-align: middle;\n",
       "    }\n",
       "\n",
       "    .dataframe tbody tr th {\n",
       "        vertical-align: top;\n",
       "    }\n",
       "\n",
       "    .dataframe thead th {\n",
       "        text-align: right;\n",
       "    }\n",
       "</style>\n",
       "<table border=\"1\" class=\"dataframe\">\n",
       "  <thead>\n",
       "    <tr style=\"text-align: right;\">\n",
       "      <th></th>\n",
       "      <th>ESIID</th>\n",
       "      <th>Contract End Date</th>\n",
       "    </tr>\n",
       "  </thead>\n",
       "  <tbody>\n",
       "    <tr>\n",
       "      <th>0</th>\n",
       "      <td>3019138</td>\n",
       "      <td>10/29/2021</td>\n",
       "    </tr>\n",
       "    <tr>\n",
       "      <th>1</th>\n",
       "      <td>6015821</td>\n",
       "      <td>05/10/2021</td>\n",
       "    </tr>\n",
       "    <tr>\n",
       "      <th>2</th>\n",
       "      <td>9514135</td>\n",
       "      <td>02/10/2022</td>\n",
       "    </tr>\n",
       "    <tr>\n",
       "      <th>3</th>\n",
       "      <td>13078046</td>\n",
       "      <td>10/09/2021</td>\n",
       "    </tr>\n",
       "    <tr>\n",
       "      <th>4</th>\n",
       "      <td>13134011</td>\n",
       "      <td>10/04/2020</td>\n",
       "    </tr>\n",
       "    <tr>\n",
       "      <th>...</th>\n",
       "      <td>...</td>\n",
       "      <td>...</td>\n",
       "    </tr>\n",
       "    <tr>\n",
       "      <th>5078</th>\n",
       "      <td>9983633771</td>\n",
       "      <td>02/24/2022</td>\n",
       "    </tr>\n",
       "    <tr>\n",
       "      <th>5079</th>\n",
       "      <td>9984580068</td>\n",
       "      <td>10/24/2020</td>\n",
       "    </tr>\n",
       "    <tr>\n",
       "      <th>5080</th>\n",
       "      <td>9986862259</td>\n",
       "      <td>03/13/2022</td>\n",
       "    </tr>\n",
       "    <tr>\n",
       "      <th>5081</th>\n",
       "      <td>9989177002</td>\n",
       "      <td>06/10/2021</td>\n",
       "    </tr>\n",
       "    <tr>\n",
       "      <th>5082</th>\n",
       "      <td>9994019424</td>\n",
       "      <td>11/14/2021</td>\n",
       "    </tr>\n",
       "  </tbody>\n",
       "</table>\n",
       "<p>5083 rows × 2 columns</p>\n",
       "</div>"
      ],
      "text/plain": [
       "           ESIID Contract End Date\n",
       "0        3019138        10/29/2021\n",
       "1        6015821        05/10/2021\n",
       "2        9514135        02/10/2022\n",
       "3       13078046        10/09/2021\n",
       "4       13134011        10/04/2020\n",
       "...          ...               ...\n",
       "5078  9983633771        02/24/2022\n",
       "5079  9984580068        10/24/2020\n",
       "5080  9986862259        03/13/2022\n",
       "5081  9989177002        06/10/2021\n",
       "5082  9994019424        11/14/2021\n",
       "\n",
       "[5083 rows x 2 columns]"
      ]
     },
     "execution_count": 10,
     "metadata": {},
     "output_type": "execute_result"
    }
   ],
   "source": [
    "data"
   ]
  },
  {
   "cell_type": "code",
   "execution_count": 11,
   "metadata": {},
   "outputs": [
    {
     "data": {
      "text/plain": [
       "array([   3019138,    6015821,    9514135, ..., 9986862259, 9989177002,\n",
       "       9994019424], dtype=int64)"
      ]
     },
     "execution_count": 11,
     "metadata": {},
     "output_type": "execute_result"
    }
   ],
   "source": [
    "data['ESIID'].unique()"
   ]
  },
  {
   "cell_type": "code",
   "execution_count": 28,
   "metadata": {},
   "outputs": [
    {
     "data": {
      "text/html": [
       "<div>\n",
       "<style scoped>\n",
       "    .dataframe tbody tr th:only-of-type {\n",
       "        vertical-align: middle;\n",
       "    }\n",
       "\n",
       "    .dataframe tbody tr th {\n",
       "        vertical-align: top;\n",
       "    }\n",
       "\n",
       "    .dataframe thead th {\n",
       "        text-align: right;\n",
       "    }\n",
       "</style>\n",
       "<table border=\"1\" class=\"dataframe\">\n",
       "  <thead>\n",
       "    <tr style=\"text-align: right;\">\n",
       "      <th></th>\n",
       "      <th></th>\n",
       "    </tr>\n",
       "    <tr>\n",
       "      <th>Contract End Date</th>\n",
       "      <th>ESIID</th>\n",
       "    </tr>\n",
       "  </thead>\n",
       "  <tbody>\n",
       "    <tr>\n",
       "      <th rowspan=\"4\" valign=\"top\">01/01/2021</th>\n",
       "      <th>3173009423</th>\n",
       "    </tr>\n",
       "    <tr>\n",
       "      <th>6622975015</th>\n",
       "    </tr>\n",
       "    <tr>\n",
       "      <th>6791110737</th>\n",
       "    </tr>\n",
       "    <tr>\n",
       "      <th>7122221035</th>\n",
       "    </tr>\n",
       "    <tr>\n",
       "      <th>01/01/2022</th>\n",
       "      <th>811068027</th>\n",
       "    </tr>\n",
       "    <tr>\n",
       "      <th>...</th>\n",
       "      <th>...</th>\n",
       "    </tr>\n",
       "    <tr>\n",
       "      <th>12/30/2021</th>\n",
       "      <th>9785316097</th>\n",
       "    </tr>\n",
       "    <tr>\n",
       "      <th rowspan=\"2\" valign=\"top\">12/30/2022</th>\n",
       "      <th>6394064335</th>\n",
       "    </tr>\n",
       "    <tr>\n",
       "      <th>7493147086</th>\n",
       "    </tr>\n",
       "    <tr>\n",
       "      <th rowspan=\"2\" valign=\"top\">12/31/2021</th>\n",
       "      <th>4642577017</th>\n",
       "    </tr>\n",
       "    <tr>\n",
       "      <th>6742097014</th>\n",
       "    </tr>\n",
       "  </tbody>\n",
       "</table>\n",
       "<p>5083 rows × 0 columns</p>\n",
       "</div>"
      ],
      "text/plain": [
       "Empty DataFrame\n",
       "Columns: []\n",
       "Index: [(01/01/2021, 3173009423), (01/01/2021, 6622975015), (01/01/2021, 6791110737), (01/01/2021, 7122221035), (01/01/2022, 811068027), (01/01/2022, 1115000666), (01/01/2022, 1163615217), (01/01/2022, 1287015425), (01/01/2022, 1669588109), (01/01/2022, 2973009828), (01/01/2022, 3483001530), (01/01/2022, 3592159057), (01/01/2022, 5132315168), (01/01/2022, 5368036834), (01/01/2022, 5510729021), (01/01/2022, 5864794139), (01/01/2022, 5983797045), (01/01/2022, 6012442899), (01/01/2022, 6215000062), (01/01/2022, 6330027282), (01/01/2022, 7377004341), (01/01/2022, 7868035725), (01/01/2022, 8285688035), (01/01/2022, 8542315138), (01/01/2022, 8997003159), (01/01/2022, 9015000465), (01/02/2022, 598012321), (01/02/2022, 1125774008), (01/02/2022, 1278039603), (01/02/2022, 1304003431), (01/02/2022, 1366025425), (01/02/2022, 1456494015), (01/02/2022, 1978645935), (01/02/2022, 2246498006), (01/02/2022, 2622646027), (01/02/2022, 2878038548), (01/02/2022, 3597198111), (01/02/2022, 4395826137), (01/02/2022, 4513011611), (01/02/2022, 7132682116), (01/02/2022, 7213597939), (01/02/2022, 7567117083), (01/02/2022, 7579660016), (01/02/2022, 7812499009), (01/02/2022, 8020256029), (01/02/2022, 8687919257), (01/02/2022, 9719848155), (01/03/2021, 459145004), (01/03/2021, 693137080), (01/03/2021, 725033012), (01/03/2021, 1267028039), (01/03/2021, 9553000955), (01/03/2021, 9751032172), (01/03/2022, 645141039), (01/03/2022, 1281071018), (01/03/2022, 1319059049), (01/03/2022, 2213019934), (01/03/2022, 2721088004), (01/03/2022, 3156405231), (01/03/2022, 3775876005), (01/03/2022, 5016020141), (01/03/2022, 5107703856), (01/03/2022, 6266032110), (01/03/2022, 6498036641), (01/03/2022, 6778169002), (01/03/2022, 7266185212), (01/03/2022, 8466403302), (01/03/2022, 9305549137), (01/03/2022, 9588258255), (01/03/2022, 9971078572), (01/04/2021, 372363852), (01/04/2021, 1669805099), (01/04/2021, 3355740652), (01/04/2021, 6474167135), (01/04/2021, 7145170000), (01/04/2021, 7744796175), (01/04/2022, 115000523), (01/04/2022, 944209008), (01/04/2022, 9651383534), (01/05/2022, 8218438734), (01/06/2022, 628099019), (01/06/2022, 1088119011), (01/06/2022, 1886029044), (01/06/2022, 2319939696), (01/06/2022, 2534350011), (01/06/2022, 2624673127), (01/06/2022, 2815286004), (01/06/2022, 3796759049), (01/06/2022, 4199084032), (01/06/2022, 4672816042), (01/06/2022, 5077203099), (01/06/2022, 7217100173), (01/06/2022, 7768212063), (01/06/2022, 7958829298), (01/06/2022, 8472410114), (01/06/2022, 8615005299), (01/06/2022, 8742118071), (01/06/2022, 9658606031), (01/06/2022, 9934004515), (01/06/2023, 7219031379), ...]\n",
       "\n",
       "[5083 rows x 0 columns]"
      ]
     },
     "execution_count": 28,
     "metadata": {},
     "output_type": "execute_result"
    }
   ],
   "source": [
    "df = data.groupby([\"Contract End Date\", \"ESIID\"]).count()\n",
    "df"
   ]
  }
 ],
 "metadata": {
  "kernelspec": {
   "display_name": "Python 3",
   "language": "python",
   "name": "python3"
  },
  "language_info": {
   "codemirror_mode": {
    "name": "ipython",
    "version": 3
   },
   "file_extension": ".py",
   "mimetype": "text/x-python",
   "name": "python",
   "nbconvert_exporter": "python",
   "pygments_lexer": "ipython3",
   "version": "3.8.5"
  }
 },
 "nbformat": 4,
 "nbformat_minor": 4
}
